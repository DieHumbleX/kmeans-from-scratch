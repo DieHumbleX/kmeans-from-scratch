{
 "cells": [
  {
   "cell_type": "code",
   "execution_count": 1,
   "metadata": {},
   "outputs": [],
   "source": [
    "#built and tested on ipython\n",
    "#keep the file in same path as that of notebook\n",
    "#outputfile created on same path  above with name output.txt"
   ]
  },
  {
   "cell_type": "code",
   "execution_count": 2,
   "metadata": {},
   "outputs": [],
   "source": [
    "#written in python\n",
    "#lists and 2D arays used to store data (apart from initial file data for which dataframe is used)\n",
    "#All calculations completely done manually using loops\n",
    "#file handeling done manually for output write\n",
    "#familiarity with popular library shown during data import"
   ]
  },
  {
   "cell_type": "code",
   "execution_count": 3,
   "metadata": {},
   "outputs": [],
   "source": [
    "import sys\n",
    "# for random function\n",
    "from random import randint\n",
    "# data import\n",
    "import numpy as np\n",
    "import pandas as pd\n",
    "# for power and sqare root\n",
    "import math"
   ]
  },
  {
   "cell_type": "code",
   "execution_count": 4,
   "metadata": {},
   "outputs": [],
   "source": [
    "# Importing the dataset using pandas\n",
    "data = pd.read_csv('co.txt', sep=\" \", header=None)\n",
    "col=len(data.axes[1])\n",
    "row=len(data.axes[0])\n",
    "# No use of numpy or pandas beyond this"
   ]
  },
  {
   "cell_type": "code",
   "execution_count": 5,
   "metadata": {},
   "outputs": [
    {
     "name": "stdout",
     "output_type": "stream",
     "text": [
      "enter no of clusters3\n"
     ]
    }
   ],
   "source": [
    "k = int(input(\"enter no of clusters\"))"
   ]
  },
  {
   "cell_type": "code",
   "execution_count": 6,
   "metadata": {},
   "outputs": [],
   "source": [
    "def dist(x=[], y=[], *args ):\n",
    "    s = 0; \n",
    "    for i in range(len(x)):\n",
    "        s += math.pow(x[i]-y[i], 2);\n",
    "    return math.sqrt(s); #The square root of the sum"
   ]
  },
  {
   "cell_type": "code",
   "execution_count": null,
   "metadata": {},
   "outputs": [],
   "source": []
  },
  {
   "cell_type": "code",
   "execution_count": 7,
   "metadata": {},
   "outputs": [],
   "source": [
    "\n",
    "#initial cluster random initialized then used as old cluster\n",
    "cluster = [[0 for i in range(col)] for j in range(k)]\n",
    "# segregate matrix\n",
    "distmatrix = [[0 for i in range(k+1)] for j in range(row)]\n",
    "# mean cluster\n",
    "mean_cluster = [[0 for i in range(col)] for j in range(k)]\n"
   ]
  },
  {
   "cell_type": "code",
   "execution_count": 8,
   "metadata": {},
   "outputs": [],
   "source": [
    "# randomly selecting x y z.. coordinates of cluster from existing x y z.. coordinates\n",
    "for i in range(col):\n",
    "    axis = data[i]\n",
    "    for j in range (k):\n",
    "        w = randint(0,row-1)\n",
    "        cluster[j][i]= axis[w]"
   ]
  },
  {
   "cell_type": "code",
   "execution_count": null,
   "metadata": {},
   "outputs": [],
   "source": []
  },
  {
   "cell_type": "code",
   "execution_count": null,
   "metadata": {},
   "outputs": [],
   "source": []
  },
  {
   "cell_type": "code",
   "execution_count": 9,
   "metadata": {},
   "outputs": [],
   "source": [
    "def segregate():\n",
    "    global cluster\n",
    "    #print(row, col,k )\n",
    "    cluster_coord = []\n",
    "    point_coord = []\n",
    "    for p in range(row):       \n",
    "            for q in range(col):\n",
    "                \n",
    "                point_coord.append(float(data[q][p]))\n",
    "                \n",
    "            min_count = 0\n",
    "            min = 0\n",
    "            cluster_num=0\n",
    "            #print(\"point_coord\",point_coord)\n",
    "            \n",
    "            for i in range(k):\n",
    "                for j in range (col):\n",
    "                    cluster_coord.append(cluster[i][j])\n",
    "                #print(\"cluster_coord\",cluster_coord)\n",
    "                distmatrix[p][i] = dist(point_coord,cluster_coord)\n",
    "                if min_count == 0:\n",
    "                    min = distmatrix[p][i]\n",
    "                    cluster_num = i\n",
    "                    min_count=1\n",
    "                elif distmatrix[p][i]< min:\n",
    "                    min =distmatrix[p][i]\n",
    "                    cluster_num = i    \n",
    "                cluster_coord =[]\n",
    "                \n",
    "            distmatrix[p][i+1] = cluster_num\n",
    "            point_coord =[]\n",
    " \n",
    "        \n",
    "        \n",
    "        "
   ]
  },
  {
   "cell_type": "code",
   "execution_count": null,
   "metadata": {},
   "outputs": [],
   "source": [
    "\n"
   ]
  },
  {
   "cell_type": "code",
   "execution_count": null,
   "metadata": {},
   "outputs": [],
   "source": []
  },
  {
   "cell_type": "code",
   "execution_count": 10,
   "metadata": {},
   "outputs": [],
   "source": [
    "def mean():\n",
    "    global mean_cluster\n",
    "    for i in range(k):\n",
    "        for j in range(col):\n",
    "            mean_counter=0\n",
    "            mean_sum=0\n",
    "            mean=0\n",
    "            #print(j)\n",
    "            for m in range(row):\n",
    "                if distmatrix[m][k] == i:\n",
    "\n",
    "                    mean_sum = mean_sum + float(data[j][m])\n",
    "                    mean_counter += 1;\n",
    "                    \n",
    "            if mean_counter !=0:\n",
    "                mean = mean_sum/mean_counter\n",
    "            else:\n",
    "                mean =0\n",
    "            mean_cluster[i][j] = mean\n",
    "   # print (\"inside cluster cluster\",mean_cluster)\n",
    "   #print (\"inside cluster segregate\",distmatrix)\n",
    "    "
   ]
  },
  {
   "cell_type": "code",
   "execution_count": null,
   "metadata": {},
   "outputs": [],
   "source": []
  },
  {
   "cell_type": "code",
   "execution_count": 11,
   "metadata": {},
   "outputs": [
    {
     "name": "stdout",
     "output_type": "stream",
     "text": [
      "progress\n",
      " [[0, 0, 0], [0, 0, 0], [0, 0, 0]]\n",
      "progress\n",
      " [[5.42, 3.019, 2.951000000000001], [6.809090909090907, 3.147727272727272, 5.424999999999998], [5.816666666666666, 2.9499999999999997, 5.0]]\n",
      "progress\n",
      " [[5.068852459016394, 3.250819672131148, 1.8459016393442624], [6.863414634146341, 3.0829268292682923, 5.6390243902439], [5.95625, 2.7791666666666663, 4.583333333333333]]\n",
      "progress\n",
      " [[5.005769230769231, 3.3807692307692316, 1.5288461538461537], [6.853846153846153, 3.0769230769230766, 5.715384615384615], [5.913559322033898, 2.7508474576271187, 4.430508474576272]]\n",
      "progress\n",
      " [[5.005999999999999, 3.4180000000000006, 1.464], [6.852499999999999, 3.0699999999999994, 5.692499999999999], [5.868333333333334, 2.74, 4.381666666666667]]\n",
      "----found-----\n",
      " [[5.005999999999999, 3.4180000000000006, 1.464], [6.852499999999999, 3.0699999999999994, 5.692499999999999], [5.868333333333334, 2.74, 4.381666666666667]]\n"
     ]
    }
   ],
   "source": [
    "i=0#limited to 10000 iterations \n",
    "while(i<10000):\n",
    "        print (\"progress\\n\",mean_cluster)\n",
    "        i=i+1\n",
    "        segregate()\n",
    "        mean()\n",
    "        if mean_cluster == cluster:\n",
    "            print (\"----found-----\\n\",mean_cluster)\n",
    "            break\n",
    "        cluster = [col[:] for col in mean_cluster]"
   ]
  },
  {
   "cell_type": "code",
   "execution_count": 12,
   "metadata": {},
   "outputs": [],
   "source": [
    "file = open('output.txt','w')"
   ]
  },
  {
   "cell_type": "code",
   "execution_count": 13,
   "metadata": {},
   "outputs": [],
   "source": [
    "for i in range(k):\n",
    "    for j in range(col):\n",
    "        file.write(str(mean_cluster[i][j]))\n",
    "        file.write(\" \")\n",
    "    file.write(\"\\n\")\n",
    "\n"
   ]
  },
  {
   "cell_type": "code",
   "execution_count": 14,
   "metadata": {},
   "outputs": [],
   "source": [
    "file.close()"
   ]
  },
  {
   "cell_type": "code",
   "execution_count": null,
   "metadata": {},
   "outputs": [],
   "source": []
  },
  {
   "cell_type": "code",
   "execution_count": null,
   "metadata": {},
   "outputs": [],
   "source": []
  },
  {
   "cell_type": "code",
   "execution_count": null,
   "metadata": {},
   "outputs": [],
   "source": [
    "\n"
   ]
  },
  {
   "cell_type": "code",
   "execution_count": null,
   "metadata": {},
   "outputs": [],
   "source": [
    "\n"
   ]
  },
  {
   "cell_type": "code",
   "execution_count": null,
   "metadata": {},
   "outputs": [],
   "source": []
  },
  {
   "cell_type": "code",
   "execution_count": null,
   "metadata": {},
   "outputs": [],
   "source": []
  },
  {
   "cell_type": "code",
   "execution_count": null,
   "metadata": {},
   "outputs": [],
   "source": []
  }
 ],
 "metadata": {
  "kernelspec": {
   "display_name": "Python 3",
   "language": "python",
   "name": "python3"
  },
  "language_info": {
   "codemirror_mode": {
    "name": "ipython",
    "version": 3
   },
   "file_extension": ".py",
   "mimetype": "text/x-python",
   "name": "python",
   "nbconvert_exporter": "python",
   "pygments_lexer": "ipython3",
   "version": "3.6.4"
  }
 },
 "nbformat": 4,
 "nbformat_minor": 2
}
